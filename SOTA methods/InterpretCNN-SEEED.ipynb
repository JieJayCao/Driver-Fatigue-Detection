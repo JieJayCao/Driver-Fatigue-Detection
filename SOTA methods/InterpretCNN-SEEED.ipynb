{
 "cells": [
  {
   "cell_type": "code",
   "execution_count": 1,
   "metadata": {},
   "outputs": [],
   "source": [
    "import torch\n",
    "from torch import nn\n",
    "from torch.utils.data import Dataset\n",
    "from torch.utils.data import DataLoader\n",
    "from torch.nn import functional as F\n",
    "import pytorch_lightning as pl\n",
    "from pytorch_lightning import Trainer\n",
    "from pytorch_lightning.callbacks import EarlyStopping, ModelCheckpoint\n",
    "from torch.optim.lr_scheduler import ReduceLROnPlateau\n",
    "\n",
    "from pytorch_lightning.loggers import TensorBoardLogger\n",
    "import numpy as np\n",
    "import csv\n",
    "from sklearn.metrics import accuracy_score, precision_score, recall_score, f1_score\n",
    "import os\n",
    "from tqdm import tqdm\n",
    "from thop import profile, clever_format\n",
    "# 对于疲劳监测,Recall更为重要,因为我们更关注是否能检测出所有疲劳状态\n",
    "# 标签0表示清醒状态,标签1表示疲劳状态\n",
    "# 高Recall意味着能捕获到更多的疲劳状态,降低漏报率,这对安全性要求高的场景更重要\n",
    "# Precision则关注预测为疲劳时的准确性,但可能会漏掉一些疲劳样本\n",
    "\n",
    "\n",
    "torch.backends.cudnn.deterministic = True\n",
    "torch.backends.cudnn.benchmark = True\n",
    "\n",
    "def set_seed(seed=42):\n",
    "    np.random.seed(seed)  # 设置 NumPy 的随机种子\n",
    "    torch.manual_seed(seed)  # 设置 PyTorch 的随机种子\n",
    "    torch.cuda.manual_seed(seed)  # 为当前 GPU 设置随机种子\n",
    "    torch.cuda.manual_seed_all(seed)  # 为所有 GPU 设置随机种子\n",
    "    torch.backends.cudnn.deterministic = True  # 确保卷积等操作是确定性的\n",
    "    torch.backends.cudnn.benchmark = False  # 关闭非确定性优化\n",
    "\n",
    "set_seed(42)  # 调用函数，设置固定的随机种子\n",
    "\n",
    "\n",
    "config = {\n",
    "    'subjects_num': 12,\n",
    "    'n_epochs': 30, \n",
    "    'batch_size': 64,\n",
    "    'save_name': 'logs/FastAlertNet-{epoch:02d}-{val_acc:.2f}',\n",
    "    'log_path1': 'logs/FastAlertNet_logs',  # 修改\n",
    "    'num_class': 2 # 修改,二分类:0-清醒,1-疲劳\n",
    "}\n",
    "\n",
    "isIntraSub = False  # 修改\n",
    "\n",
    "\n",
    "def get_device():\n",
    "    return 'cuda' if torch.cuda.is_available() else 'cpu'\n",
    "\n",
    "\n",
    "\n",
    "class EEG_IntraSub_Dataset(Dataset):\n",
    "    def __init__(self, path, mode, test_sub):\n",
    "        self.mode = mode\n",
    "        sub_list = [i for i in range(config['subjects_num'])]\n",
    "        data = []\n",
    "        label = []\n",
    "\n",
    "        \n",
    "        for i in sub_list:\n",
    "            data_sub = np.load(path + f'sub_{i}_eeg.npy')\n",
    "            label_sub = np.load(path + f'sub_{i}_labels.npy')\n",
    "            data.extend(data_sub)\n",
    "            label.extend(label_sub)\n",
    "            \n",
    "        data = np.array(data)\n",
    "        label = np.array(label).flatten()\n",
    "        \n",
    "        # 生成随机索引进行同步shuffle\n",
    "        shuffle_idx = np.random.permutation(len(data))\n",
    "        data = data[shuffle_idx]\n",
    "        label = label[shuffle_idx]\n",
    "    \n",
    "        if mode == 'train':\n",
    "            data = data[:int(len(data)*0.8)]\n",
    "            label = label[:int(len(label)*0.8)]\n",
    "       \n",
    "        elif mode == 'val':\n",
    "            data = data[int(len(data)*0.8):int(len(data)*0.9)]\n",
    "            label = label[int(len(label)*0.8):int(len(label)*0.9)]\n",
    "        \n",
    "        elif mode == 'test':\n",
    "            data = data[int(len(data)*0.9):]\n",
    "            label = label[int(len(label)*0.9):]\n",
    "        \n",
    "        self.data = torch.FloatTensor(data)\n",
    "        self.label = torch.LongTensor(label)\n",
    "\n",
    "    def __len__(self):\n",
    "        return len(self.data)  \n",
    "\n",
    "    def __getitem__(self, index):\n",
    "        return self.data[index], self.label[index]\n",
    "        \n",
    "class EEG_InterSub_Dataset(Dataset):\n",
    "    def __init__(self, path, mode, test_sub):\n",
    "        self.mode = mode\n",
    "        self.test_sub = test_sub\n",
    "        \n",
    "        if mode == 'train' or mode == 'val':\n",
    "            train_sub = [i for i in range(config['subjects_num'])]\n",
    "            train_sub.remove(test_sub)\n",
    "            data = []\n",
    "            label = []\n",
    "            for i in train_sub:\n",
    "                data_sub = np.load(path + f'sub_{i}_eeg.npy')\n",
    "                label_sub = np.load(path + f'sub_{i}_labels.npy')\n",
    "                data.extend(data_sub)\n",
    "                label.extend(label_sub)\n",
    "                \n",
    "            data = np.array(data)\n",
    "            label = np.array(label).flatten()\n",
    "            # 生成随机索引进行同步shuffle\n",
    "            shuffle_idx = np.random.permutation(len(data))\n",
    "            data = data[shuffle_idx]\n",
    "            label = label[shuffle_idx]\n",
    "    \n",
    "            if mode == 'train':\n",
    "                data = data[:int(len(data)*0.9)]\n",
    "                label = label[:int(len(label)*0.9)]\n",
    "                \n",
    "            elif mode == 'val':\n",
    "                data = data[int(len(data)*0.9):]\n",
    "                label = label[int(len(label)*0.9):]\n",
    "                   \n",
    "        \n",
    "        elif mode == 'test':\n",
    "            \n",
    "            data = np.load(path + f'sub_{test_sub}_eeg.npy')\n",
    "            label = np.load(path + f'sub_{test_sub}_labels.npy')\n",
    "\n",
    "        \n",
    "        self.data = torch.FloatTensor(data)\n",
    "        self.label = torch.LongTensor(label)      \n",
    "    def __len__(self):\n",
    "        return len(self.data)  # 返回数据的总个数\n",
    "\n",
    "    def __getitem__(self, index):\n",
    "        return self.data[index], self.label[index]\n",
    "\n",
    "\n",
    "def prep_dataloader(path, mode, batch_size, test_sub, isIntraSub = False, njobs=1):\n",
    "    if isIntraSub:\n",
    "        print(\"IntraSub\")\n",
    "        dataset = EEG_IntraSub_Dataset(path, mode, test_sub)\n",
    "    else:\n",
    "        print(\"InterSub\")\n",
    "        dataset = EEG_InterSub_Dataset(path, mode, test_sub)\n",
    "        \n",
    "    dataloader = DataLoader(dataset, batch_size, shuffle=(mode == 'train'), drop_last=False, num_workers=njobs,\n",
    "                            pin_memory=True)\n",
    "    return dataloader\n",
    "\n",
    "\n"
   ]
  },
  {
   "cell_type": "code",
   "execution_count": 4,
   "metadata": {},
   "outputs": [
    {
     "name": "stdout",
     "output_type": "stream",
     "text": [
      "[INFO] Register count_convNd() for <class 'torch.nn.modules.conv.Conv1d'>.\n",
      "[INFO] Register count_normalization() for <class 'torch.nn.modules.batchnorm.BatchNorm1d'>.\n",
      "[INFO] Register zero_ops() for <class 'torch.nn.modules.activation.ReLU'>.\n",
      "[INFO] Register count_adap_avgpool() for <class 'torch.nn.modules.pooling.AdaptiveAvgPool1d'>.\n",
      "[INFO] Register count_linear() for <class 'torch.nn.modules.linear.Linear'>.\n",
      "[INFO] Register zero_ops() for <class 'torch.nn.modules.container.Sequential'>.\n",
      "\u001b[42mFLOPs: 101.680K, Parameters: 546.000B\u001b[0m\n",
      "IntraSub\n",
      "IntraSub\n",
      "IntraSub\n"
     ]
    },
    {
     "name": "stderr",
     "output_type": "stream",
     "text": [
      "GPU available: True (cuda), used: True\n",
      "TPU available: False, using: 0 TPU cores\n",
      "HPU available: False, using: 0 HPUs\n",
      "`Trainer(val_check_interval=1.0)` was configured so validation will run at the end of the training epoch..\n",
      "LOCAL_RANK: 0 - CUDA_VISIBLE_DEVICES: [0,1]\n",
      "\n",
      "  | Name            | Type              | Params | Mode \n",
      "--------------------------------------------------------------\n",
      "0 | pointwise_conv  | Conv1d            | 144    | train\n",
      "1 | depthwise_conv  | Conv1d            | 64     | train\n",
      "2 | bn2             | BatchNorm1d       | 32     | train\n",
      "3 | relu2           | ReLU              | 0      | train\n",
      "4 | global_avg_pool | AdaptiveAvgPool1d | 0      | train\n",
      "5 | fc              | Sequential        | 306    | train\n",
      "--------------------------------------------------------------\n",
      "546       Trainable params\n",
      "0         Non-trainable params\n",
      "546       Total params\n",
      "0.002     Total estimated model params size (MB)\n",
      "9         Modules in train mode\n",
      "0         Modules in eval mode\n"
     ]
    },
    {
     "data": {
      "application/vnd.jupyter.widget-view+json": {
       "model_id": "a30d62f40bfa496bba6a2c8791abfefa",
       "version_major": 2,
       "version_minor": 0
      },
      "text/plain": [
       "Sanity Checking: |          | 0/? [00:00<?, ?it/s]"
      ]
     },
     "metadata": {},
     "output_type": "display_data"
    },
    {
     "data": {
      "application/vnd.jupyter.widget-view+json": {
       "model_id": "ee42d3aa4ad84b03b885c7579f9c0814",
       "version_major": 2,
       "version_minor": 0
      },
      "text/plain": [
       "Training: |          | 0/? [00:00<?, ?it/s]"
      ]
     },
     "metadata": {},
     "output_type": "display_data"
    },
    {
     "data": {
      "application/vnd.jupyter.widget-view+json": {
       "model_id": "1dbebe2051584116ace7fd5161536ef5",
       "version_major": 2,
       "version_minor": 0
      },
      "text/plain": [
       "Validation: |          | 0/? [00:00<?, ?it/s]"
      ]
     },
     "metadata": {},
     "output_type": "display_data"
    },
    {
     "data": {
      "application/vnd.jupyter.widget-view+json": {
       "model_id": "3b114d4e07304a9fb5e0f0f8a0198329",
       "version_major": 2,
       "version_minor": 0
      },
      "text/plain": [
       "Validation: |          | 0/? [00:00<?, ?it/s]"
      ]
     },
     "metadata": {},
     "output_type": "display_data"
    },
    {
     "data": {
      "application/vnd.jupyter.widget-view+json": {
       "model_id": "44421bd82875494a8a25853ac5a017b4",
       "version_major": 2,
       "version_minor": 0
      },
      "text/plain": [
       "Validation: |          | 0/? [00:00<?, ?it/s]"
      ]
     },
     "metadata": {},
     "output_type": "display_data"
    },
    {
     "name": "stderr",
     "output_type": "stream",
     "text": [
      "Exception ignored in: <function _releaseLock at 0x7b74ad056a20>\n",
      "Traceback (most recent call last):\n",
      "  File \"/home/jie/anaconda3/lib/python3.12/logging/__init__.py\", line 243, in _releaseLock\n",
      "    def _releaseLock():\n",
      "    \n",
      "KeyboardInterrupt: \n"
     ]
    },
    {
     "data": {
      "application/vnd.jupyter.widget-view+json": {
       "model_id": "1bc068e79b3f498b92a76560fe414bef",
       "version_major": 2,
       "version_minor": 0
      },
      "text/plain": [
       "Validation: |          | 0/? [00:00<?, ?it/s]"
      ]
     },
     "metadata": {},
     "output_type": "display_data"
    },
    {
     "data": {
      "application/vnd.jupyter.widget-view+json": {
       "model_id": "9ec8fc766e6043c5a02647da78c3ed01",
       "version_major": 2,
       "version_minor": 0
      },
      "text/plain": [
       "Validation: |          | 0/? [00:00<?, ?it/s]"
      ]
     },
     "metadata": {},
     "output_type": "display_data"
    },
    {
     "data": {
      "application/vnd.jupyter.widget-view+json": {
       "model_id": "383416d6e2e447ff9ae37255861caa89",
       "version_major": 2,
       "version_minor": 0
      },
      "text/plain": [
       "Validation: |          | 0/? [00:00<?, ?it/s]"
      ]
     },
     "metadata": {},
     "output_type": "display_data"
    },
    {
     "data": {
      "application/vnd.jupyter.widget-view+json": {
       "model_id": "1b1bf86f0d1e421885089d5b7717dfd8",
       "version_major": 2,
       "version_minor": 0
      },
      "text/plain": [
       "Validation: |          | 0/? [00:00<?, ?it/s]"
      ]
     },
     "metadata": {},
     "output_type": "display_data"
    },
    {
     "data": {
      "application/vnd.jupyter.widget-view+json": {
       "model_id": "6becee803c8641048bdc163742e770d6",
       "version_major": 2,
       "version_minor": 0
      },
      "text/plain": [
       "Validation: |          | 0/? [00:00<?, ?it/s]"
      ]
     },
     "metadata": {},
     "output_type": "display_data"
    },
    {
     "data": {
      "application/vnd.jupyter.widget-view+json": {
       "model_id": "fe0bc81b5e2f4e15926038adb040be6f",
       "version_major": 2,
       "version_minor": 0
      },
      "text/plain": [
       "Validation: |          | 0/? [00:00<?, ?it/s]"
      ]
     },
     "metadata": {},
     "output_type": "display_data"
    },
    {
     "data": {
      "application/vnd.jupyter.widget-view+json": {
       "model_id": "a9497684db274aa69517ee7e4073202e",
       "version_major": 2,
       "version_minor": 0
      },
      "text/plain": [
       "Validation: |          | 0/? [00:00<?, ?it/s]"
      ]
     },
     "metadata": {},
     "output_type": "display_data"
    },
    {
     "data": {
      "application/vnd.jupyter.widget-view+json": {
       "model_id": "1e265529582445d2904c5b486340df67",
       "version_major": 2,
       "version_minor": 0
      },
      "text/plain": [
       "Validation: |          | 0/? [00:00<?, ?it/s]"
      ]
     },
     "metadata": {},
     "output_type": "display_data"
    },
    {
     "data": {
      "application/vnd.jupyter.widget-view+json": {
       "model_id": "e05d06d8b0cc46c38b86104fbb25a1a9",
       "version_major": 2,
       "version_minor": 0
      },
      "text/plain": [
       "Validation: |          | 0/? [00:00<?, ?it/s]"
      ]
     },
     "metadata": {},
     "output_type": "display_data"
    },
    {
     "data": {
      "application/vnd.jupyter.widget-view+json": {
       "model_id": "afb3e42d24b44773b0a0a3b475c9b7f2",
       "version_major": 2,
       "version_minor": 0
      },
      "text/plain": [
       "Validation: |          | 0/? [00:00<?, ?it/s]"
      ]
     },
     "metadata": {},
     "output_type": "display_data"
    },
    {
     "data": {
      "application/vnd.jupyter.widget-view+json": {
       "model_id": "b545f5df76b94a02888ada399b3a3a81",
       "version_major": 2,
       "version_minor": 0
      },
      "text/plain": [
       "Validation: |          | 0/? [00:00<?, ?it/s]"
      ]
     },
     "metadata": {},
     "output_type": "display_data"
    },
    {
     "data": {
      "application/vnd.jupyter.widget-view+json": {
       "model_id": "04362a9f48614bea99eb5de347ca9a11",
       "version_major": 2,
       "version_minor": 0
      },
      "text/plain": [
       "Validation: |          | 0/? [00:00<?, ?it/s]"
      ]
     },
     "metadata": {},
     "output_type": "display_data"
    },
    {
     "data": {
      "application/vnd.jupyter.widget-view+json": {
       "model_id": "0dea39ff36b94d6890e4275f5c9933fc",
       "version_major": 2,
       "version_minor": 0
      },
      "text/plain": [
       "Validation: |          | 0/? [00:00<?, ?it/s]"
      ]
     },
     "metadata": {},
     "output_type": "display_data"
    },
    {
     "data": {
      "application/vnd.jupyter.widget-view+json": {
       "model_id": "3da641dc6cb44419809368d4cb2f03c7",
       "version_major": 2,
       "version_minor": 0
      },
      "text/plain": [
       "Validation: |          | 0/? [00:00<?, ?it/s]"
      ]
     },
     "metadata": {},
     "output_type": "display_data"
    },
    {
     "data": {
      "application/vnd.jupyter.widget-view+json": {
       "model_id": "04062d4568ed4a49b01993032f8e5ee1",
       "version_major": 2,
       "version_minor": 0
      },
      "text/plain": [
       "Validation: |          | 0/? [00:00<?, ?it/s]"
      ]
     },
     "metadata": {},
     "output_type": "display_data"
    },
    {
     "data": {
      "application/vnd.jupyter.widget-view+json": {
       "model_id": "a32179fd6ae847d3b71abcaceb754f7f",
       "version_major": 2,
       "version_minor": 0
      },
      "text/plain": [
       "Validation: |          | 0/? [00:00<?, ?it/s]"
      ]
     },
     "metadata": {},
     "output_type": "display_data"
    },
    {
     "data": {
      "application/vnd.jupyter.widget-view+json": {
       "model_id": "f10806a149c24984b25d91954c790fe9",
       "version_major": 2,
       "version_minor": 0
      },
      "text/plain": [
       "Validation: |          | 0/? [00:00<?, ?it/s]"
      ]
     },
     "metadata": {},
     "output_type": "display_data"
    },
    {
     "data": {
      "application/vnd.jupyter.widget-view+json": {
       "model_id": "1bdcc50e4eba48af971efb309a78b1ee",
       "version_major": 2,
       "version_minor": 0
      },
      "text/plain": [
       "Validation: |          | 0/? [00:00<?, ?it/s]"
      ]
     },
     "metadata": {},
     "output_type": "display_data"
    },
    {
     "data": {
      "application/vnd.jupyter.widget-view+json": {
       "model_id": "bffa12c6f39b44df8b74fbe3d0aa13bd",
       "version_major": 2,
       "version_minor": 0
      },
      "text/plain": [
       "Validation: |          | 0/? [00:00<?, ?it/s]"
      ]
     },
     "metadata": {},
     "output_type": "display_data"
    },
    {
     "data": {
      "application/vnd.jupyter.widget-view+json": {
       "model_id": "4acb945a7f3a483d86e0e451a8c60b85",
       "version_major": 2,
       "version_minor": 0
      },
      "text/plain": [
       "Validation: |          | 0/? [00:00<?, ?it/s]"
      ]
     },
     "metadata": {},
     "output_type": "display_data"
    },
    {
     "data": {
      "application/vnd.jupyter.widget-view+json": {
       "model_id": "97e7675c7273466a88c88e9dcfc78c13",
       "version_major": 2,
       "version_minor": 0
      },
      "text/plain": [
       "Validation: |          | 0/? [00:00<?, ?it/s]"
      ]
     },
     "metadata": {},
     "output_type": "display_data"
    },
    {
     "data": {
      "application/vnd.jupyter.widget-view+json": {
       "model_id": "378c5aae615c49fd9fc7ff733ce0161d",
       "version_major": 2,
       "version_minor": 0
      },
      "text/plain": [
       "Validation: |          | 0/? [00:00<?, ?it/s]"
      ]
     },
     "metadata": {},
     "output_type": "display_data"
    },
    {
     "data": {
      "application/vnd.jupyter.widget-view+json": {
       "model_id": "0e1c706d572e4792a7543a9ee0c3cb4b",
       "version_major": 2,
       "version_minor": 0
      },
      "text/plain": [
       "Validation: |          | 0/? [00:00<?, ?it/s]"
      ]
     },
     "metadata": {},
     "output_type": "display_data"
    },
    {
     "data": {
      "application/vnd.jupyter.widget-view+json": {
       "model_id": "4b86f8be9c694eb3b714ce70c03faac1",
       "version_major": 2,
       "version_minor": 0
      },
      "text/plain": [
       "Validation: |          | 0/? [00:00<?, ?it/s]"
      ]
     },
     "metadata": {},
     "output_type": "display_data"
    },
    {
     "data": {
      "application/vnd.jupyter.widget-view+json": {
       "model_id": "b65c0bd4e0be44168b31bf35e6265c31",
       "version_major": 2,
       "version_minor": 0
      },
      "text/plain": [
       "Validation: |          | 0/? [00:00<?, ?it/s]"
      ]
     },
     "metadata": {},
     "output_type": "display_data"
    },
    {
     "data": {
      "application/vnd.jupyter.widget-view+json": {
       "model_id": "16ec2c09cf7a456a9d27817d4d689372",
       "version_major": 2,
       "version_minor": 0
      },
      "text/plain": [
       "Validation: |          | 0/? [00:00<?, ?it/s]"
      ]
     },
     "metadata": {},
     "output_type": "display_data"
    },
    {
     "data": {
      "application/vnd.jupyter.widget-view+json": {
       "model_id": "3dde30a784864d6a9bb4fcefd459f76f",
       "version_major": 2,
       "version_minor": 0
      },
      "text/plain": [
       "Validation: |          | 0/? [00:00<?, ?it/s]"
      ]
     },
     "metadata": {},
     "output_type": "display_data"
    },
    {
     "name": "stderr",
     "output_type": "stream",
     "text": [
      "`Trainer.fit` stopped: `max_epochs=30` reached.\n",
      "LOCAL_RANK: 0 - CUDA_VISIBLE_DEVICES: [0,1]\n",
      "/home/jie/anaconda3/lib/python3.12/site-packages/pytorch_lightning/trainer/connectors/data_connector.py:424: The 'test_dataloader' does not have many workers which may be a bottleneck. Consider increasing the value of the `num_workers` argument` to `num_workers=35` in the `DataLoader` to improve performance.\n"
     ]
    },
    {
     "data": {
      "application/vnd.jupyter.widget-view+json": {
       "model_id": "0753035cac8b46b58794eee818ef70f0",
       "version_major": 2,
       "version_minor": 0
      },
      "text/plain": [
       "Testing: |          | 0/? [00:00<?, ?it/s]"
      ]
     },
     "metadata": {},
     "output_type": "display_data"
    },
    {
     "data": {
      "text/html": [
       "<pre style=\"white-space:pre;overflow-x:auto;line-height:normal;font-family:Menlo,'DejaVu Sans Mono',consolas,'Courier New',monospace\">┏━━━━━━━━━━━━━━━━━━━━━━━━━━━┳━━━━━━━━━━━━━━━━━━━━━━━━━━━┓\n",
       "┃<span style=\"font-weight: bold\">        Test metric        </span>┃<span style=\"font-weight: bold\">       DataLoader 0        </span>┃\n",
       "┡━━━━━━━━━━━━━━━━━━━━━━━━━━━╇━━━━━━━━━━━━━━━━━━━━━━━━━━━┩\n",
       "│<span style=\"color: #008080; text-decoration-color: #008080\">         test_acc          </span>│<span style=\"color: #800080; text-decoration-color: #800080\">    0.8993435502052307     </span>│\n",
       "│<span style=\"color: #008080; text-decoration-color: #008080\">          test_f1          </span>│<span style=\"color: #800080; text-decoration-color: #800080\">    0.8995693325996399     </span>│\n",
       "│<span style=\"color: #008080; text-decoration-color: #008080\">         test_pre          </span>│<span style=\"color: #800080; text-decoration-color: #800080\">    0.9037060737609863     </span>│\n",
       "│<span style=\"color: #008080; text-decoration-color: #008080\">        test_recall        </span>│<span style=\"color: #800080; text-decoration-color: #800080\">    0.8993435502052307     </span>│\n",
       "└───────────────────────────┴───────────────────────────┘\n",
       "</pre>\n"
      ],
      "text/plain": [
       "┏━━━━━━━━━━━━━━━━━━━━━━━━━━━┳━━━━━━━━━━━━━━━━━━━━━━━━━━━┓\n",
       "┃\u001b[1m \u001b[0m\u001b[1m       Test metric       \u001b[0m\u001b[1m \u001b[0m┃\u001b[1m \u001b[0m\u001b[1m      DataLoader 0       \u001b[0m\u001b[1m \u001b[0m┃\n",
       "┡━━━━━━━━━━━━━━━━━━━━━━━━━━━╇━━━━━━━━━━━━━━━━━━━━━━━━━━━┩\n",
       "│\u001b[36m \u001b[0m\u001b[36m        test_acc         \u001b[0m\u001b[36m \u001b[0m│\u001b[35m \u001b[0m\u001b[35m   0.8993435502052307    \u001b[0m\u001b[35m \u001b[0m│\n",
       "│\u001b[36m \u001b[0m\u001b[36m         test_f1         \u001b[0m\u001b[36m \u001b[0m│\u001b[35m \u001b[0m\u001b[35m   0.8995693325996399    \u001b[0m\u001b[35m \u001b[0m│\n",
       "│\u001b[36m \u001b[0m\u001b[36m        test_pre         \u001b[0m\u001b[36m \u001b[0m│\u001b[35m \u001b[0m\u001b[35m   0.9037060737609863    \u001b[0m\u001b[35m \u001b[0m│\n",
       "│\u001b[36m \u001b[0m\u001b[36m       test_recall       \u001b[0m\u001b[36m \u001b[0m│\u001b[35m \u001b[0m\u001b[35m   0.8993435502052307    \u001b[0m\u001b[35m \u001b[0m│\n",
       "└───────────────────────────┴───────────────────────────┘\n"
      ]
     },
     "metadata": {},
     "output_type": "display_data"
    },
    {
     "name": "stdout",
     "output_type": "stream",
     "text": [
      "IntraSub\n",
      "IntraSub\n",
      "IntraSub\n"
     ]
    },
    {
     "name": "stderr",
     "output_type": "stream",
     "text": [
      "GPU available: True (cuda), used: True\n",
      "TPU available: False, using: 0 TPU cores\n",
      "HPU available: False, using: 0 HPUs\n",
      "`Trainer(val_check_interval=1.0)` was configured so validation will run at the end of the training epoch..\n",
      "/home/jie/anaconda3/lib/python3.12/site-packages/pytorch_lightning/callbacks/model_checkpoint.py:654: Checkpoint directory logs/FastAlertNet_logs/lightning_logs/version_9/checkpoints exists and is not empty.\n",
      "LOCAL_RANK: 0 - CUDA_VISIBLE_DEVICES: [0,1]\n",
      "\n",
      "  | Name            | Type              | Params | Mode \n",
      "--------------------------------------------------------------\n",
      "0 | pointwise_conv  | Conv1d            | 144    | train\n",
      "1 | depthwise_conv  | Conv1d            | 64     | train\n",
      "2 | bn2             | BatchNorm1d       | 32     | train\n",
      "3 | relu2           | ReLU              | 0      | train\n",
      "4 | global_avg_pool | AdaptiveAvgPool1d | 0      | train\n",
      "5 | fc              | Sequential        | 306    | train\n",
      "--------------------------------------------------------------\n",
      "546       Trainable params\n",
      "0         Non-trainable params\n",
      "546       Total params\n",
      "0.002     Total estimated model params size (MB)\n",
      "9         Modules in train mode\n",
      "0         Modules in eval mode\n"
     ]
    },
    {
     "data": {
      "application/vnd.jupyter.widget-view+json": {
       "model_id": "d957b27a3c9a4bb89033cddd35d66c2b",
       "version_major": 2,
       "version_minor": 0
      },
      "text/plain": [
       "Sanity Checking: |          | 0/? [00:00<?, ?it/s]"
      ]
     },
     "metadata": {},
     "output_type": "display_data"
    },
    {
     "data": {
      "application/vnd.jupyter.widget-view+json": {
       "model_id": "802396da76724ff6b08310e62500a753",
       "version_major": 2,
       "version_minor": 0
      },
      "text/plain": [
       "Training: |          | 0/? [00:00<?, ?it/s]"
      ]
     },
     "metadata": {},
     "output_type": "display_data"
    },
    {
     "data": {
      "application/vnd.jupyter.widget-view+json": {
       "model_id": "bdaaa195d8ee479db928f7755f14617c",
       "version_major": 2,
       "version_minor": 0
      },
      "text/plain": [
       "Validation: |          | 0/? [00:00<?, ?it/s]"
      ]
     },
     "metadata": {},
     "output_type": "display_data"
    },
    {
     "data": {
      "application/vnd.jupyter.widget-view+json": {
       "model_id": "901eeb0bfe804c2e8c86d2232f9aa064",
       "version_major": 2,
       "version_minor": 0
      },
      "text/plain": [
       "Validation: |          | 0/? [00:00<?, ?it/s]"
      ]
     },
     "metadata": {},
     "output_type": "display_data"
    },
    {
     "data": {
      "application/vnd.jupyter.widget-view+json": {
       "model_id": "f6c7f5541b644fb78a4f3dccedcd561c",
       "version_major": 2,
       "version_minor": 0
      },
      "text/plain": [
       "Validation: |          | 0/? [00:00<?, ?it/s]"
      ]
     },
     "metadata": {},
     "output_type": "display_data"
    },
    {
     "data": {
      "application/vnd.jupyter.widget-view+json": {
       "model_id": "eb636e7e4746434a8352a0da063755b2",
       "version_major": 2,
       "version_minor": 0
      },
      "text/plain": [
       "Validation: |          | 0/? [00:00<?, ?it/s]"
      ]
     },
     "metadata": {},
     "output_type": "display_data"
    },
    {
     "data": {
      "application/vnd.jupyter.widget-view+json": {
       "model_id": "a24cb0a111ac4dd6a31e1402a67980a9",
       "version_major": 2,
       "version_minor": 0
      },
      "text/plain": [
       "Validation: |          | 0/? [00:00<?, ?it/s]"
      ]
     },
     "metadata": {},
     "output_type": "display_data"
    },
    {
     "data": {
      "application/vnd.jupyter.widget-view+json": {
       "model_id": "30b3e05adaaa4f368984b0a7f4300688",
       "version_major": 2,
       "version_minor": 0
      },
      "text/plain": [
       "Validation: |          | 0/? [00:00<?, ?it/s]"
      ]
     },
     "metadata": {},
     "output_type": "display_data"
    },
    {
     "data": {
      "application/vnd.jupyter.widget-view+json": {
       "model_id": "0ceadddca971498ea5c4801acb40e845",
       "version_major": 2,
       "version_minor": 0
      },
      "text/plain": [
       "Validation: |          | 0/? [00:00<?, ?it/s]"
      ]
     },
     "metadata": {},
     "output_type": "display_data"
    },
    {
     "data": {
      "application/vnd.jupyter.widget-view+json": {
       "model_id": "acc4ea74805e4d1bb05c46a0c3f646d7",
       "version_major": 2,
       "version_minor": 0
      },
      "text/plain": [
       "Validation: |          | 0/? [00:00<?, ?it/s]"
      ]
     },
     "metadata": {},
     "output_type": "display_data"
    },
    {
     "data": {
      "application/vnd.jupyter.widget-view+json": {
       "model_id": "b5c35fc23c634dc3971c70af159888d6",
       "version_major": 2,
       "version_minor": 0
      },
      "text/plain": [
       "Validation: |          | 0/? [00:00<?, ?it/s]"
      ]
     },
     "metadata": {},
     "output_type": "display_data"
    },
    {
     "data": {
      "application/vnd.jupyter.widget-view+json": {
       "model_id": "cf665e6492d04dc0afa215fb468db903",
       "version_major": 2,
       "version_minor": 0
      },
      "text/plain": [
       "Validation: |          | 0/? [00:00<?, ?it/s]"
      ]
     },
     "metadata": {},
     "output_type": "display_data"
    }
   ],
   "source": [
    "# InterpretCNN Detail\n",
    "class InterpretCNN(pl.LightningModule):\n",
    "    \n",
    "    def __init__(self, input_channels=17, input_length=384, num_classes=2):\n",
    "\n",
    "        super(InterpretCNN, self).__init__()\n",
    "        \n",
    "        # Define activation function\n",
    "        \n",
    "        self.pointwise_conv = nn.Conv1d(\n",
    "            in_channels=input_channels, \n",
    "            out_channels=8, \n",
    "            kernel_size=1, \n",
    "            stride=1, \n",
    "            padding=0\n",
    "        )\n",
    "        #self.bn1 = nn.BatchNorm1d(16)\n",
    "        #self.relu1 = nn.ReLU()\n",
    "        \n",
    "        # Depthwise Convolution\n",
    "        self.depthwise_conv = nn.Conv1d(\n",
    "            in_channels=8, \n",
    "            out_channels=16, \n",
    "            kernel_size=3, \n",
    "            stride=1, \n",
    "            padding=1, \n",
    "            groups=8  # Depthwise Convolution\n",
    "        )\n",
    "        self.bn2 = nn.BatchNorm1d(16)\n",
    "        self.relu2 = nn.ReLU()\n",
    "        \n",
    "        # Global Average Pooling\n",
    "        self.global_avg_pool = nn.AdaptiveAvgPool1d(1)\n",
    "        \n",
    "        # Dense Layer\n",
    "        self.fc = nn.Sequential(\n",
    "            nn.Linear(16, 16),\n",
    "            nn.ReLU(),\n",
    "            nn.Linear(16, num_classes)\n",
    "        )\n",
    "        \n",
    "    def forward(self, x):\n",
    "        # Input: [batch_size, 30, 384]\n",
    "        x = self.pointwise_conv(x)  # [batch_size, 16, 384]\n",
    "        #x = self.bn1(x)\n",
    "        #x = self.relu1(x)\n",
    "        \n",
    "        x = self.depthwise_conv(x)  # [batch_size, 32, 384]\n",
    "        x = self.bn2(x)\n",
    "        x = self.relu2(x)\n",
    "        \n",
    "        x = self.global_avg_pool(x)  # [batch_size, 32, 1]\n",
    "        x = x.squeeze(-1)  # [batch_size, 32]\n",
    "        \n",
    "        x = self.fc(x)  # [batch_size, num_classes]\n",
    "        return x\n",
    "\n",
    "\n",
    "    \n",
    "    def configure_optimizers(self):\n",
    "        return torch.optim.Adam(self.parameters(), lr=0.001)\n",
    "      \n",
    "    def training_step(self, batch):\n",
    "        x, y = batch\n",
    "        preds = self(x)\n",
    "        #loss = self.arc_loss(preds, y)\n",
    "        loss = F.cross_entropy(preds, y)\n",
    "        self.log('training_loss', loss, prog_bar=True, logger=True, on_step=True, on_epoch=True)\n",
    "        loss = {'loss': loss}\n",
    "        return loss\n",
    "\n",
    "    def validation_step(self, batch):\n",
    "        x, y = batch\n",
    "        preds = self(x)\n",
    "        loss = F.cross_entropy(preds, y)\n",
    "        #self.arc_loss(preds, y)\n",
    "        #entropy = F.cross_entropy(preds, y)\n",
    "        self.log('val_loss', loss, prog_bar=True, logger=True, on_step=False, on_epoch=True)\n",
    "\n",
    "    def test_step(self, batch):\n",
    "        x, y = batch\n",
    "        preds = self(x)\n",
    "        \n",
    "        y_pre = torch.argmax(F.log_softmax(preds, dim=1), dim=1)\n",
    "        acc = accuracy_score(y.cpu(), y_pre.cpu())\n",
    "        pre = precision_score(y.cpu(), y_pre.cpu(), average='weighted')\n",
    "        recall = recall_score(y.cpu(), y_pre.cpu(), average='weighted')\n",
    "        f1 = f1_score(y.cpu(), y_pre.cpu(), average='weighted')\n",
    "\n",
    "        self.log('test_acc', acc)\n",
    "        self.log('test_pre', pre)\n",
    "        self.log('test_recall', recall)\n",
    "        self.log('test_f1', f1)\n",
    "        \n",
    "        return {'test_acc': acc, 'test_pre': pre, 'test_recall': recall, 'test_f1': f1} \n",
    "        #return {'acc': acc, 'pre': pre, 'recall': recall, 'f1': f1}\n",
    "\n",
    "def predict(model, dataloader):\n",
    "    model.eval()\n",
    "    with torch.no_grad():\n",
    "        for batch in dataloader:\n",
    "            x, y = batch\n",
    "            preds = model(x)\n",
    "            print(preds)\n",
    "            y_pre = torch.argmax(F.log_softmax(preds, dim=1), dim=1)\n",
    "            acc = accuracy_score(y.cpu(), y_pre.cpu())\n",
    "            pre = precision_score(y.cpu(), y_pre.cpu(), average='weighted')\n",
    "            recall = recall_score(y.cpu(), y_pre.cpu(), average='weighted')\n",
    "            f1 = f1_score(y.cpu(), y_pre.cpu(), average='weighted')\n",
    "\n",
    "    return acc, pre, recall, f1\n",
    "       \n",
    "checkpoint_callback = ModelCheckpoint(\n",
    "    monitor='val_loss',\n",
    "    filename=config['save_name'],\n",
    "    save_top_k=1,\n",
    "    mode='min',\n",
    "    save_last=True\n",
    ")\n",
    "\n",
    "if __name__ == '__main__':\n",
    "    tr_path = val_path = test_path =  \"/home/jie/Program/872/Dataset/SEED-VIG-Subset/\"\n",
    "\n",
    "    device = get_device()\n",
    "    model = InterpretCNN()\n",
    "    input = torch.randn(1, 17, 384)\n",
    "    flops, params = profile(model, inputs=(input,))\n",
    "    flops, params = clever_format([flops, params], \"%.3f\")\n",
    "    print(\"\\033[42m\" + f\"FLOPs: {flops}, Parameters: {params}\" + \"\\033[0m\")\n",
    "    \n",
    "    for i in range(12):\n",
    "        test_sub = i\n",
    "        tr_set = prep_dataloader(tr_path, 'train', config['batch_size'], test_sub, isIntraSub=True, njobs=6)\n",
    "        val_set = prep_dataloader(val_path, 'val', config['batch_size'], test_sub, isIntraSub=True, njobs=6)\n",
    "        test_set = prep_dataloader(test_path, 'test', config['batch_size'], test_sub, isIntraSub=True, njobs=1)\n",
    "        model =  InterpretCNN().to(device)\n",
    "        logger = TensorBoardLogger(config['log_path1'])#, config['log_path2'])\n",
    "        trainer = Trainer(val_check_interval=1.0, max_epochs=config['n_epochs'], devices=[0], accelerator='gpu',\n",
    "                        logger=logger,\n",
    "                        callbacks=[\n",
    "                            #EarlyStopping(monitor='val_loss', mode='min', check_on_train_epoch_end=True, patience=10, min_delta=1e-4),\n",
    "                            checkpoint_callback\n",
    "                        ]\n",
    "                        )\n",
    "        \n",
    "        trainer.fit(model, train_dataloaders=tr_set, val_dataloaders=val_set)\n",
    "        # 保存最终模型\n",
    "        trainer.save_checkpoint('InterpretCNN.ckpt')\n",
    "\n",
    "        test_results = trainer.test(model, dataloaders=test_set)\n",
    "        # 将测试结果写入文件\n",
    "        f = open('InterpretCNN_test_results.txt', 'a')\n",
    "        f.write('Subject:'+str(test_sub))\n",
    "        for metrics in test_results:\n",
    "            for metric_name, value in metrics.items():\n",
    "                f.write(','+str(value))\n",
    "        f.write('\\n')\n",
    "        f.close()\n",
    "    \n",
    "    #test_model = FastAlertNet.load_from_checkpoint(\"/home/jie/Program/872/FastAlertNet.ckpt\", map_location=torch.device('cuda')).float().to('cuda')\n"
   ]
  },
  {
   "cell_type": "code",
   "execution_count": 3,
   "metadata": {},
   "outputs": [
    {
     "name": "stdout",
     "output_type": "stream",
     "text": [
      "&74.95 &97.02 &74.95 &80.05\n"
     ]
    }
   ],
   "source": [
    "f = open('metric.txt', 'r')\n",
    "avg_acc = 0\n",
    "avg_pre = 0\n",
    "avg_recall = 0\n",
    "avg_f1 = 0\n",
    "for i in f.readlines():\n",
    "    acc,pre,recall,f1 = i.split(',')[1:]\n",
    "    avg_acc += float(acc)\n",
    "    avg_pre += float(pre)\n",
    "    avg_recall += float(recall)\n",
    "    avg_f1 += float(f1)\n",
    "    \n",
    "avg_acc /= config['subjects_num']\n",
    "avg_pre /= config['subjects_num']\n",
    "avg_recall /= config['subjects_num']\n",
    "avg_f1 /= config['subjects_num']\n",
    "print(f\"&{avg_acc*100:.2f}\",f\"&{avg_pre*100:.2f}\",f\"&{avg_recall*100:.2f}\",f\"&{avg_f1*100:.2f}\")"
   ]
  },
  {
   "cell_type": "code",
   "execution_count": null,
   "metadata": {},
   "outputs": [],
   "source": []
  }
 ],
 "metadata": {
  "kernelspec": {
   "display_name": "base",
   "language": "python",
   "name": "python3"
  },
  "language_info": {
   "codemirror_mode": {
    "name": "ipython",
    "version": 3
   },
   "file_extension": ".py",
   "mimetype": "text/x-python",
   "name": "python",
   "nbconvert_exporter": "python",
   "pygments_lexer": "ipython3",
   "version": "3.12.2"
  }
 },
 "nbformat": 4,
 "nbformat_minor": 2
}
